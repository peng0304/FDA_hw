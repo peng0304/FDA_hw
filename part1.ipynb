{
 "cells": [
  {
   "cell_type": "code",
   "execution_count": 2,
   "metadata": {},
   "outputs": [],
   "source": [
    "from collections import Counter \n",
    "import seaborn as sns\n",
    "import matplotlib.pyplot as plt\n",
    "import numpy as np\n",
    "import pandas as pd \n",
    "data = pd.read_csv('D:\\Downloads\\jerry\\data\\Reviews.csv')\n",
    "data = data[:10000]"
   ]
  },
  {
   "cell_type": "markdown",
   "metadata": {},
   "source": [
    "# 1.Top 10 Reviewer"
   ]
  },
  {
   "cell_type": "code",
   "execution_count": 3,
   "metadata": {},
   "outputs": [
    {
     "data": {
      "text/html": [
       "<div>\n",
       "<style scoped>\n",
       "    .dataframe tbody tr th:only-of-type {\n",
       "        vertical-align: middle;\n",
       "    }\n",
       "\n",
       "    .dataframe tbody tr th {\n",
       "        vertical-align: top;\n",
       "    }\n",
       "\n",
       "    .dataframe thead th {\n",
       "        text-align: right;\n",
       "    }\n",
       "</style>\n",
       "<table border=\"1\" class=\"dataframe\">\n",
       "  <thead>\n",
       "    <tr style=\"text-align: right;\">\n",
       "      <th></th>\n",
       "      <th></th>\n",
       "      <th>Score count</th>\n",
       "      <th>Score mean</th>\n",
       "    </tr>\n",
       "    <tr>\n",
       "      <th>UserId</th>\n",
       "      <th>ProfileName</th>\n",
       "      <th></th>\n",
       "      <th></th>\n",
       "    </tr>\n",
       "  </thead>\n",
       "  <tbody>\n",
       "    <tr>\n",
       "      <th>A1Z54EM24Y40LL</th>\n",
       "      <th>c2</th>\n",
       "      <td>17</td>\n",
       "      <td>3.882353</td>\n",
       "    </tr>\n",
       "    <tr>\n",
       "      <th>A2SZLNSI5KOQJT</th>\n",
       "      <th>Carrie, \"Formerly &amp;#34;Sister Carrie&amp;#34;\"</th>\n",
       "      <td>10</td>\n",
       "      <td>3.800000</td>\n",
       "    </tr>\n",
       "    <tr>\n",
       "      <th>A35R32TA60XD57</th>\n",
       "      <th>M. Torma</th>\n",
       "      <td>9</td>\n",
       "      <td>4.111111</td>\n",
       "    </tr>\n",
       "    <tr>\n",
       "      <th>A281NPSIMI1C2R</th>\n",
       "      <th>Rebecca of Amazon \"The Rebecca Review\"</th>\n",
       "      <td>8</td>\n",
       "      <td>5.000000</td>\n",
       "    </tr>\n",
       "    <tr>\n",
       "      <th>A3OXHLG6DIBRW8</th>\n",
       "      <th>C. F. Hill \"CFH\"</th>\n",
       "      <td>7</td>\n",
       "      <td>4.428571</td>\n",
       "    </tr>\n",
       "    <tr>\n",
       "      <th>A3NHUQ33CFH3VM</th>\n",
       "      <th>Citizen John</th>\n",
       "      <td>7</td>\n",
       "      <td>3.142857</td>\n",
       "    </tr>\n",
       "    <tr>\n",
       "      <th>A3PJZ8TU8FDQ1K</th>\n",
       "      <th>Jared Castle</th>\n",
       "      <td>7</td>\n",
       "      <td>4.714286</td>\n",
       "    </tr>\n",
       "    <tr>\n",
       "      <th>AQ6SHOW0VMZGF</th>\n",
       "      <th>K. Padgett \"familyof5\"</th>\n",
       "      <td>6</td>\n",
       "      <td>2.666667</td>\n",
       "    </tr>\n",
       "    <tr>\n",
       "      <th>A26NFIQ7KWI8Y7</th>\n",
       "      <th>kt rose</th>\n",
       "      <td>6</td>\n",
       "      <td>2.666667</td>\n",
       "    </tr>\n",
       "    <tr>\n",
       "      <th>A10H24TDLK2VDP</th>\n",
       "      <th>William Jens Jensen</th>\n",
       "      <td>6</td>\n",
       "      <td>3.000000</td>\n",
       "    </tr>\n",
       "  </tbody>\n",
       "</table>\n",
       "</div>"
      ],
      "text/plain": [
       "                                                           Score count  \\\n",
       "UserId         ProfileName                                               \n",
       "A1Z54EM24Y40LL c2                                                   17   \n",
       "A2SZLNSI5KOQJT Carrie, \"Formerly &#34;Sister Carrie&#34;\"           10   \n",
       "A35R32TA60XD57 M. Torma                                              9   \n",
       "A281NPSIMI1C2R Rebecca of Amazon \"The Rebecca Review\"                8   \n",
       "A3OXHLG6DIBRW8 C. F. Hill \"CFH\"                                      7   \n",
       "A3NHUQ33CFH3VM Citizen John                                          7   \n",
       "A3PJZ8TU8FDQ1K Jared Castle                                          7   \n",
       "AQ6SHOW0VMZGF  K. Padgett \"familyof5\"                                6   \n",
       "A26NFIQ7KWI8Y7 kt rose                                               6   \n",
       "A10H24TDLK2VDP William Jens Jensen                                   6   \n",
       "\n",
       "                                                           Score mean  \n",
       "UserId         ProfileName                                             \n",
       "A1Z54EM24Y40LL c2                                            3.882353  \n",
       "A2SZLNSI5KOQJT Carrie, \"Formerly &#34;Sister Carrie&#34;\"    3.800000  \n",
       "A35R32TA60XD57 M. Torma                                      4.111111  \n",
       "A281NPSIMI1C2R Rebecca of Amazon \"The Rebecca Review\"        5.000000  \n",
       "A3OXHLG6DIBRW8 C. F. Hill \"CFH\"                              4.428571  \n",
       "A3NHUQ33CFH3VM Citizen John                                  3.142857  \n",
       "A3PJZ8TU8FDQ1K Jared Castle                                  4.714286  \n",
       "AQ6SHOW0VMZGF  K. Padgett \"familyof5\"                        2.666667  \n",
       "A26NFIQ7KWI8Y7 kt rose                                       2.666667  \n",
       "A10H24TDLK2VDP William Jens Jensen                           3.000000  "
      ]
     },
     "execution_count": 3,
     "metadata": {},
     "output_type": "execute_result"
    }
   ],
   "source": [
    "data_groupby = data.groupby([\"UserId\",\"ProfileName\"])\n",
    "data_groupby_mean = data_groupby.mean()\n",
    "\n",
    "data_groupby_score_count = data_groupby.size()\n",
    "data_groupby_score_count.name = \"Score count\"\n",
    "\n",
    "data_groupby_score_mean = data_groupby_mean[\"Score\"]\n",
    "data_groupby_score_mean.name = \"Score mean\"\n",
    "\n",
    "NewFrame = pd.DataFrame(data_groupby_score_count)\n",
    "NewFrame[\"Score mean\"] = data_groupby_score_mean\n",
    "result = NewFrame.sort_values(by = ['Score count'],ascending = 0)\n",
    "result.head(10)"
   ]
  },
  {
   "cell_type": "markdown",
   "metadata": {},
   "source": [
    "# 2.Plot score distribution for the user with the most number of reviews"
   ]
  },
  {
   "cell_type": "code",
   "execution_count": 4,
   "metadata": {
    "scrolled": true
   },
   "outputs": [
    {
     "data": {
      "text/plain": [
       "<matplotlib.axes._subplots.AxesSubplot at 0xa1905c0>"
      ]
     },
     "execution_count": 4,
     "metadata": {},
     "output_type": "execute_result"
    },
    {
     "data": {
      "image/png": "[encoded data removed]",
      "text/plain": [
       "<Figure size 432x288 with 1 Axes>"
      ]
     },
     "metadata": {
      "needs_background": "light"
     },
     "output_type": "display_data"
    }
   ],
   "source": [
    "Top_reviewer = result.index[0]\n",
    "Top_reviewer_data = data_groupby.get_group(Top_reviewer)\n",
    "Top_reviewer_Scorecount = Top_reviewer_data.set_index([\"UserId\",\"Score\"])\n",
    "Top_reviewer_Scorecount = Top_reviewer_Scorecount.count(level = \"Score\")\n",
    "Top_reviewer_Scorecount.plot.bar(y = \"ProfileName\", color=([\"blue\", \"orange\", \"green\", \"red\", \"purple\"]),legend=None)"
   ]
  },
  {
   "cell_type": "markdown",
   "metadata": {},
   "source": [
    "# 3.Plot pandas Series DataFrame (Time->Date)"
   ]
  },
  {
   "cell_type": "code",
   "execution_count": 5,
   "metadata": {},
   "outputs": [
    {
     "data": {
      "text/plain": [
       "<matplotlib.axes._subplots.AxesSubplot at 0xa37cd68>"
      ]
     },
     "execution_count": 5,
     "metadata": {},
     "output_type": "execute_result"
    },
    {
     "data": {
      "image/png": "[encoded data removed]",
      "text/plain": [
       "<Figure size 432x288 with 1 Axes>"
      ]
     },
     "metadata": {
      "needs_background": "light"
     },
     "output_type": "display_data"
    }
   ],
   "source": [
    "data_time = data.copy()\n",
    "data_time[\"Year\"] = pd.to_datetime(data['Time'], unit=\"s\").apply(lambda x: x.year)\n",
    "data_year = data_time.groupby(\"Year\").size()\n",
    "data_year = pd.DataFrame(data_year)\n",
    "data_year.plot.bar(legend = None)"
   ]
  },
  {
   "cell_type": "markdown",
   "metadata": {},
   "source": [
    "# 4.Plot HeatMap using seaborn"
   ]
  },
  {
   "cell_type": "code",
   "execution_count": 19,
   "metadata": {},
   "outputs": [
    {
     "data": {
      "text/plain": [
       "<matplotlib.axes._subplots.AxesSubplot at 0xb21e080>"
      ]
     },
     "execution_count": 19,
     "metadata": {},
     "output_type": "execute_result"
    },
    {
     "data": {
      "image/png": "[encoded data removed]",
      "text/plain": [
       "<Figure size 432x288 with 2 Axes>"
      ]
     },
     "metadata": {
      "needs_background": "light"
     },
     "output_type": "display_data"
    }
   ],
   "source": [
    "data_drop = data.drop(columns = [\"UserId\", \"ProductId\", \"ProfileName\", \"Summary\", \"Text\"])\n",
    "data_corr = data_drop[data_drop.columns].astype(float).corr()\n",
    "sns.heatmap(data_corr, annot=True)"
   ]
  },
  {
   "cell_type": "markdown",
   "metadata": {},
   "source": [
    "# 5.Helpful percent"
   ]
  },
  {
   "cell_type": "code",
   "execution_count": 18,
   "metadata": {},
   "outputs": [
    {
     "data": {
      "text/plain": [
       "<matplotlib.axes._subplots.AxesSubplot at 0xb1b2fd0>"
      ]
     },
     "execution_count": 18,
     "metadata": {},
     "output_type": "execute_result"
    },
    {
     "data": {
      "image/png": "[encoded data removed]",
      "text/plain": [
       "<Figure size 432x288 with 1 Axes>"
      ]
     },
     "metadata": {
      "needs_background": "light"
     },
     "output_type": "display_data"
    }
   ],
   "source": [
    "data_copy = data.copy()\n",
    "data_help = data_copy[data_copy[\"HelpfulnessNumerator\"] <= data_copy[\"HelpfulnessDenominator\"]]\n",
    "data_help_percent = data_help[\"HelpfulnessNumerator\"].div(data_help.HelpfulnessDenominator)\n",
    "data_help_percent.fillna(-1).hist()"
   ]
  },
  {
   "cell_type": "code",
   "execution_count": null,
   "metadata": {},
   "outputs": [],
   "source": []
  },
  {
   "cell_type": "code",
   "execution_count": null,
   "metadata": {},
   "outputs": [],
   "source": []
  }
 ],
 "metadata": {
  "kernelspec": {
   "display_name": "Python 3",
   "language": "python",
   "name": "python3"
  },
  "language_info": {
   "codemirror_mode": {
    "name": "ipython",
    "version": 3
   },
   "file_extension": ".py",
   "mimetype": "text/x-python",
   "name": "python",
   "nbconvert_exporter": "python",
   "pygments_lexer": "ipython3",
   "version": "3.7.1"
  }
 },
 "nbformat": 4,
 "nbformat_minor": 2
}
